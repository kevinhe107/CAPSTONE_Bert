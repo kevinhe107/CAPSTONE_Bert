{
  "nbformat": 4,
  "nbformat_minor": 0,
  "metadata": {
    "colab": {
      "name": "LSTM_sentiment.ipynb",
      "provenance": [],
      "collapsed_sections": [],
      "machine_shape": "hm",
      "authorship_tag": "ABX9TyNgbnu0C6rzkRTsdFQ8Jq1r",
      "include_colab_link": true
    },
    "kernelspec": {
      "name": "python3",
      "display_name": "Python 3"
    },
    "language_info": {
      "name": "python"
    },
    "accelerator": "GPU"
  },
  "cells": [
    {
      "cell_type": "markdown",
      "metadata": {
        "id": "view-in-github",
        "colab_type": "text"
      },
      "source": [
        "<a href=\"https://colab.research.google.com/github/kevinhe107/CAPSTONE_Bert/blob/main/LSTM_sentiment.ipynb\" target=\"_parent\"><img src=\"https://colab.research.google.com/assets/colab-badge.svg\" alt=\"Open In Colab\"/></a>"
      ]
    },
    {
      "cell_type": "code",
      "metadata": {
        "colab": {
          "base_uri": "https://localhost:8080/",
          "height": 35
        },
        "id": "hFRhuOPn48XP",
        "outputId": "08a85ef5-11dd-4942-cc34-02c4e0b27be7"
      },
      "source": [
        "import tensorflow as tf\n",
        "tf.test.gpu_device_name()"
      ],
      "execution_count": null,
      "outputs": [
        {
          "output_type": "execute_result",
          "data": {
            "application/vnd.google.colaboratory.intrinsic+json": {
              "type": "string"
            },
            "text/plain": [
              "'/device:GPU:0'"
            ]
          },
          "metadata": {
            "tags": []
          },
          "execution_count": 36
        }
      ]
    },
    {
      "cell_type": "code",
      "metadata": {
        "colab": {
          "base_uri": "https://localhost:8080/"
        },
        "id": "dS7HTjzp5h8q",
        "outputId": "c0e56b2b-a44d-43a9-b3d0-73bb89979a4e"
      },
      "source": [
        "from google.colab import drive\n",
        "drive.mount('/content/drive', force_remount=True)"
      ],
      "execution_count": null,
      "outputs": [
        {
          "output_type": "stream",
          "text": [
            "Mounted at /content/drive\n"
          ],
          "name": "stdout"
        }
      ]
    },
    {
      "cell_type": "code",
      "metadata": {
        "id": "LppBfY6D9-2M"
      },
      "source": [
        "import keras\n",
        "from keras.models import Model\n",
        "from keras.layers import LSTM, Activation, Dropout, Dense, Input, Conv1D, MaxPooling1D, GlobalMaxPooling1D"
      ],
      "execution_count": null,
      "outputs": []
    },
    {
      "cell_type": "code",
      "metadata": {
        "id": "kPbjcV3wbRu5"
      },
      "source": [
        "#imports\n",
        "import numpy as np # linear algebra\n",
        "import pandas as pd # data processing, CSV file I/O (e.g. pd.read_csv)\n",
        "\n",
        "from sklearn.feature_extraction.text import CountVectorizer\n",
        "from keras.preprocessing.text import Tokenizer\n",
        "from keras.preprocessing.sequence import pad_sequences\n",
        "from keras.models import Sequential\n",
        "from keras.layers import Dense, Embedding, LSTM, SpatialDropout1D\n",
        "from sklearn.model_selection import train_test_split\n",
        "from keras.utils.np_utils import to_categorical\n",
        "import re\n",
        "\n",
        "from sklearn.model_selection import train_test_split"
      ],
      "execution_count": null,
      "outputs": []
    },
    {
      "cell_type": "code",
      "metadata": {
        "id": "qY-w9r5OlyGw"
      },
      "source": [
        "data = pd.read_csv('/content/drive/MyDrive/CAPSTONE/data/cleaned_headlines_1105.csv')"
      ],
      "execution_count": null,
      "outputs": []
    },
    {
      "cell_type": "code",
      "metadata": {
        "colab": {
          "base_uri": "https://localhost:8080/",
          "height": 407
        },
        "id": "ZI18iJr36xIt",
        "outputId": "deea8823-e7ae-4d31-bd1c-2d4da48e2810"
      },
      "source": [
        "data"
      ],
      "execution_count": null,
      "outputs": [
        {
          "output_type": "execute_result",
          "data": {
            "text/html": [
              "<div>\n",
              "<style scoped>\n",
              "    .dataframe tbody tr th:only-of-type {\n",
              "        vertical-align: middle;\n",
              "    }\n",
              "\n",
              "    .dataframe tbody tr th {\n",
              "        vertical-align: top;\n",
              "    }\n",
              "\n",
              "    .dataframe thead th {\n",
              "        text-align: right;\n",
              "    }\n",
              "</style>\n",
              "<table border=\"1\" class=\"dataframe\">\n",
              "  <thead>\n",
              "    <tr style=\"text-align: right;\">\n",
              "      <th></th>\n",
              "      <th>News_Title</th>\n",
              "      <th>Sentiment</th>\n",
              "    </tr>\n",
              "  </thead>\n",
              "  <tbody>\n",
              "    <tr>\n",
              "      <th>0</th>\n",
              "      <td>['applied', 'optoelectronics', 'aaoi', 'may', ...</td>\n",
              "      <td>bearish</td>\n",
              "    </tr>\n",
              "    <tr>\n",
              "      <th>1</th>\n",
              "      <td>['applied', 'optoelectronics', 'announces', 'd...</td>\n",
              "      <td>neutral</td>\n",
              "    </tr>\n",
              "    <tr>\n",
              "      <th>2</th>\n",
              "      <td>['insider', 'buying', 'applied', 'optoelectron...</td>\n",
              "      <td>bullish</td>\n",
              "    </tr>\n",
              "    <tr>\n",
              "      <th>3</th>\n",
              "      <td>['applied', 'optoelectronics', 'stock', 'tanke...</td>\n",
              "      <td>bearish</td>\n",
              "    </tr>\n",
              "    <tr>\n",
              "      <th>4</th>\n",
              "      <td>['applied', 'optoelectronics', 'inc', 'aaoi', ...</td>\n",
              "      <td>neutral</td>\n",
              "    </tr>\n",
              "    <tr>\n",
              "      <th>...</th>\n",
              "      <td>...</td>\n",
              "      <td>...</td>\n",
              "    </tr>\n",
              "    <tr>\n",
              "      <th>1099</th>\n",
              "      <td>['aehr', 'test', 'system', 'participate', 'ann...</td>\n",
              "      <td>neutral</td>\n",
              "    </tr>\n",
              "    <tr>\n",
              "      <th>1100</th>\n",
              "      <td>['aehr', 'secures', 'order', 'system', 'new', ...</td>\n",
              "      <td>bullish</td>\n",
              "    </tr>\n",
              "    <tr>\n",
              "      <th>1101</th>\n",
              "      <td>['aehr', 'announces', 'shipment', 'new', 'syst...</td>\n",
              "      <td>neutral</td>\n",
              "    </tr>\n",
              "    <tr>\n",
              "      <th>1102</th>\n",
              "      <td>['aehr', 'present', 'annual', 'ld', 'micro', '...</td>\n",
              "      <td>neutral</td>\n",
              "    </tr>\n",
              "    <tr>\n",
              "      <th>1103</th>\n",
              "      <td>['aehr', 'receives', 'initial', 'order', 'new'...</td>\n",
              "      <td>bullish</td>\n",
              "    </tr>\n",
              "  </tbody>\n",
              "</table>\n",
              "<p>1104 rows × 2 columns</p>\n",
              "</div>"
            ],
            "text/plain": [
              "                                             News_Title Sentiment\n",
              "0     ['applied', 'optoelectronics', 'aaoi', 'may', ...   bearish\n",
              "1     ['applied', 'optoelectronics', 'announces', 'd...   neutral\n",
              "2     ['insider', 'buying', 'applied', 'optoelectron...   bullish\n",
              "3     ['applied', 'optoelectronics', 'stock', 'tanke...   bearish\n",
              "4     ['applied', 'optoelectronics', 'inc', 'aaoi', ...   neutral\n",
              "...                                                 ...       ...\n",
              "1099  ['aehr', 'test', 'system', 'participate', 'ann...   neutral\n",
              "1100  ['aehr', 'secures', 'order', 'system', 'new', ...   bullish\n",
              "1101  ['aehr', 'announces', 'shipment', 'new', 'syst...   neutral\n",
              "1102  ['aehr', 'present', 'annual', 'ld', 'micro', '...   neutral\n",
              "1103  ['aehr', 'receives', 'initial', 'order', 'new'...   bullish\n",
              "\n",
              "[1104 rows x 2 columns]"
            ]
          },
          "metadata": {
            "tags": []
          },
          "execution_count": 41
        }
      ]
    },
    {
      "cell_type": "code",
      "metadata": {
        "colab": {
          "base_uri": "https://localhost:8080/"
        },
        "id": "AsubJrk9me16",
        "outputId": "2376697f-c32a-4f5a-b1f0-33573dd38267"
      },
      "source": [
        "data.isnull().sum()"
      ],
      "execution_count": null,
      "outputs": [
        {
          "output_type": "execute_result",
          "data": {
            "text/plain": [
              "News_Title    0\n",
              "Sentiment     0\n",
              "dtype: int64"
            ]
          },
          "metadata": {
            "tags": []
          },
          "execution_count": 42
        }
      ]
    },
    {
      "cell_type": "code",
      "metadata": {
        "colab": {
          "base_uri": "https://localhost:8080/"
        },
        "id": "2DggSmwF4sOB",
        "outputId": "8f5170cf-3d90-46d6-c2c1-f6d42cb11293"
      },
      "source": [
        "data['Sentiment'].value_counts()"
      ],
      "execution_count": null,
      "outputs": [
        {
          "output_type": "execute_result",
          "data": {
            "text/plain": [
              "bullish    528\n",
              "neutral    389\n",
              "bearish    187\n",
              "Name: Sentiment, dtype: int64"
            ]
          },
          "metadata": {
            "tags": []
          },
          "execution_count": 43
        }
      ]
    },
    {
      "cell_type": "markdown",
      "metadata": {
        "id": "q-7_aNNP503b"
      },
      "source": [
        "* tokenization"
      ]
    },
    {
      "cell_type": "code",
      "metadata": {
        "id": "QPDgRTDb4ykZ"
      },
      "source": [
        "headlines = np.array(data['News_Title'])\n",
        "y = np.array(list(map(lambda x: 1 if x =='bullish' else (-1 if x == 'bearish' else 0), data['Sentiment'])))"
      ],
      "execution_count": null,
      "outputs": []
    },
    {
      "cell_type": "code",
      "metadata": {
        "colab": {
          "base_uri": "https://localhost:8080/"
        },
        "id": "UZbbUXw9CdkZ",
        "outputId": "6dc2ff4f-42bb-4c6d-8ffb-f7c536d1d93f"
      },
      "source": [
        "(unique, counts) = np.unique(y, return_counts=True)\n",
        "counts"
      ],
      "execution_count": null,
      "outputs": [
        {
          "output_type": "execute_result",
          "data": {
            "text/plain": [
              "array([187, 389, 528])"
            ]
          },
          "metadata": {
            "tags": []
          },
          "execution_count": 45
        }
      ]
    },
    {
      "cell_type": "code",
      "metadata": {
        "id": "MEj7J4cN66xD"
      },
      "source": [
        "X_train, X_test,Y_train, Y_test = train_test_split(headlines, y, test_size=0.2, random_state = 45)"
      ],
      "execution_count": null,
      "outputs": []
    },
    {
      "cell_type": "code",
      "metadata": {
        "id": "COxpTBNE7UuN"
      },
      "source": [
        "tokenizer = Tokenizer(num_words=1104 )\n",
        "tokenizer.fit_on_texts(X_train)\n",
        "\n",
        "words_to_index = tokenizer.word_index"
      ],
      "execution_count": null,
      "outputs": []
    },
    {
      "cell_type": "markdown",
      "metadata": {
        "id": "RuL3HzdP7a-i"
      },
      "source": [
        "* Glove embedding vectorization of words"
      ]
    },
    {
      "cell_type": "code",
      "metadata": {
        "id": "oeFy6azd7ZK6"
      },
      "source": [
        "def read_glove_vector(glove_vec):\n",
        "  with open(glove_vec, 'r', encoding='UTF-8') as f:\n",
        "    words = set()\n",
        "    word_to_vec_map = {}\n",
        "    for line in f:\n",
        "      w_line = line.split()\n",
        "      curr_word = w_line[0]\n",
        "      word_to_vec_map[curr_word] = np.array(w_line[1:], dtype=np.float64)\n",
        "      \n",
        "  return word_to_vec_map"
      ],
      "execution_count": null,
      "outputs": []
    },
    {
      "cell_type": "code",
      "metadata": {
        "id": "uykQ2wds9BEL"
      },
      "source": [
        "glove_path = '/content/drive/MyDrive/CAPSTONE/glove.6B.50d.txt'"
      ],
      "execution_count": null,
      "outputs": []
    },
    {
      "cell_type": "code",
      "metadata": {
        "id": "8R4bMDMI7iMR"
      },
      "source": [
        "word_to_vec_map = read_glove_vector('/content/drive/MyDrive/CAPSTONE/glove.6B.50d.txt')\n",
        "\n",
        "maxLen = 150"
      ],
      "execution_count": null,
      "outputs": []
    },
    {
      "cell_type": "code",
      "metadata": {
        "id": "STBd7vZQ9VdG"
      },
      "source": [
        "vocab_len = len(words_to_index)\n",
        "embed_vector_len = word_to_vec_map['moon'].shape[0]\n",
        "\n",
        "emb_matrix = np.zeros((vocab_len, embed_vector_len))\n",
        "\n",
        "for word, index in words_to_index.items():\n",
        "  embedding_vector = word_to_vec_map.get(word)\n",
        "  if embedding_vector is not None:\n",
        "    emb_matrix[index, :] = embedding_vector\n",
        "\n",
        "embedding_layer = Embedding(input_dim=vocab_len, output_dim=embed_vector_len, input_length=maxLen, weights = [emb_matrix], trainable=False)\n"
      ],
      "execution_count": null,
      "outputs": []
    },
    {
      "cell_type": "code",
      "metadata": {
        "id": "gThA2Rnt9WdG"
      },
      "source": [
        "def lstm_model(input_shape):\n",
        "\n",
        "  X_indices = Input(input_shape)\n",
        "\n",
        "  embeddings = embedding_layer(X_indices)\n",
        "\n",
        "  X = LSTM(128, return_sequences=True)(embeddings)\n",
        "\n",
        "  X = Dropout(0.5)(X)\n",
        "\n",
        "  X = LSTM(128, return_sequences=True)(X)\n",
        "\n",
        "  X = Dropout(0.5)(X)\n",
        "\n",
        "  X = LSTM(128, return_sequences=True)(X)\n",
        "\n",
        "  X = Dropout(0.5)(X)\n",
        "\n",
        "  X = LSTM(256)(X)\n",
        "\n",
        "  X = Dense(1, activation='sigmoid')(X)\n",
        "\n",
        "  model = Model(inputs=X_indices, outputs=X)\n",
        "\n",
        "  return model"
      ],
      "execution_count": null,
      "outputs": []
    },
    {
      "cell_type": "code",
      "metadata": {
        "id": "TbyrNmSCwzIR"
      },
      "source": [
        "def conv1d_model(input_shape):\n",
        "\n",
        "  X_indices = Input(input_shape)\n",
        "\n",
        "  embeddings = embedding_layer(X_indices)\n",
        "\n",
        "  X = Conv1D(512,3,activation='relu')(embeddings)\n",
        "  \n",
        "  X = MaxPooling1D(3)(X)\n",
        "\n",
        "  X = Conv1D(256,3,activation='relu')(X)\n",
        "  \n",
        "  X = MaxPooling1D(3)(X)\n",
        "\n",
        "  X = Conv1D(256,3,activation='relu')(X)\n",
        "  X = Dropout(0.8)(X)\n",
        "  X = MaxPooling1D(3)(X)\n",
        "\n",
        "  X = GlobalMaxPooling1D()(X)\n",
        "\n",
        "  X = Dense(256, activation='relu')(X)\n",
        "  X = Dense(1, activation='sigmoid')(X)\n",
        "\n",
        "  model = Model(inputs=X_indices, outputs=X)\n",
        "\n",
        "  return model"
      ],
      "execution_count": null,
      "outputs": []
    },
    {
      "cell_type": "code",
      "metadata": {
        "colab": {
          "base_uri": "https://localhost:8080/"
        },
        "id": "Z4iWsTp7_IBy",
        "outputId": "501d934b-f080-4381-e7d9-d5b992f57015"
      },
      "source": [
        "model = lstm_model((maxLen,))\n",
        "model.summary()"
      ],
      "execution_count": null,
      "outputs": [
        {
          "output_type": "stream",
          "text": [
            "Model: \"model_5\"\n",
            "_________________________________________________________________\n",
            "Layer (type)                 Output Shape              Param #   \n",
            "=================================================================\n",
            "input_6 (InputLayer)         [(None, 150)]             0         \n",
            "_________________________________________________________________\n",
            "embedding_1 (Embedding)      (None, 150, 50)           85950     \n",
            "_________________________________________________________________\n",
            "lstm_6 (LSTM)                (None, 150, 128)          91648     \n",
            "_________________________________________________________________\n",
            "dropout_7 (Dropout)          (None, 150, 128)          0         \n",
            "_________________________________________________________________\n",
            "lstm_7 (LSTM)                (None, 150, 128)          131584    \n",
            "_________________________________________________________________\n",
            "dropout_8 (Dropout)          (None, 150, 128)          0         \n",
            "_________________________________________________________________\n",
            "lstm_8 (LSTM)                (None, 256)               394240    \n",
            "_________________________________________________________________\n",
            "dense_8 (Dense)              (None, 1)                 257       \n",
            "=================================================================\n",
            "Total params: 703,679\n",
            "Trainable params: 617,729\n",
            "Non-trainable params: 85,950\n",
            "_________________________________________________________________\n"
          ],
          "name": "stdout"
        }
      ]
    },
    {
      "cell_type": "code",
      "metadata": {
        "colab": {
          "base_uri": "https://localhost:8080/"
        },
        "id": "PL-LYE1Vw8DZ",
        "outputId": "4c358c61-0cb3-4b21-8b5f-9928179540fa"
      },
      "source": [
        "model_1d = conv1d_model((maxLen,))\n",
        "model_1d.summary()"
      ],
      "execution_count": null,
      "outputs": [
        {
          "output_type": "stream",
          "text": [
            "Model: \"model_4\"\n",
            "_________________________________________________________________\n",
            "Layer (type)                 Output Shape              Param #   \n",
            "=================================================================\n",
            "input_5 (InputLayer)         [(None, 150)]             0         \n",
            "_________________________________________________________________\n",
            "embedding_1 (Embedding)      (None, 150, 50)           85950     \n",
            "_________________________________________________________________\n",
            "conv1d_6 (Conv1D)            (None, 148, 512)          77312     \n",
            "_________________________________________________________________\n",
            "max_pooling1d_6 (MaxPooling1 (None, 49, 512)           0         \n",
            "_________________________________________________________________\n",
            "conv1d_7 (Conv1D)            (None, 47, 256)           393472    \n",
            "_________________________________________________________________\n",
            "max_pooling1d_7 (MaxPooling1 (None, 15, 256)           0         \n",
            "_________________________________________________________________\n",
            "conv1d_8 (Conv1D)            (None, 13, 256)           196864    \n",
            "_________________________________________________________________\n",
            "dropout_6 (Dropout)          (None, 13, 256)           0         \n",
            "_________________________________________________________________\n",
            "max_pooling1d_8 (MaxPooling1 (None, 4, 256)            0         \n",
            "_________________________________________________________________\n",
            "global_max_pooling1d_2 (Glob (None, 256)               0         \n",
            "_________________________________________________________________\n",
            "dense_6 (Dense)              (None, 256)               65792     \n",
            "_________________________________________________________________\n",
            "dense_7 (Dense)              (None, 1)                 257       \n",
            "=================================================================\n",
            "Total params: 819,647\n",
            "Trainable params: 733,697\n",
            "Non-trainable params: 85,950\n",
            "_________________________________________________________________\n"
          ],
          "name": "stdout"
        }
      ]
    },
    {
      "cell_type": "code",
      "metadata": {
        "id": "EmjRyXF0Hcy4"
      },
      "source": [
        "X_train_indices = tokenizer.texts_to_sequences(X_train)"
      ],
      "execution_count": null,
      "outputs": []
    },
    {
      "cell_type": "code",
      "metadata": {
        "id": "Wsj_JMHV9qK5"
      },
      "source": [
        "X_train_indices = tokenizer.texts_to_sequences(X_train)\n",
        "\n",
        "X_train_indices = pad_sequences(X_train_indices, maxlen=maxLen, padding='post')"
      ],
      "execution_count": null,
      "outputs": []
    },
    {
      "cell_type": "code",
      "metadata": {
        "colab": {
          "base_uri": "https://localhost:8080/"
        },
        "id": "rk8aiFT49qx3",
        "outputId": "8dcf2e54-bfd2-4a98-d28c-5e05e6a535a0"
      },
      "source": [
        "adam = keras.optimizers.Adam(learning_rate = 0.01)\n",
        "model.compile(optimizer=adam, loss='binary_crossentropy', metrics=['accuracy'])\n",
        "\n",
        "model.fit(X_train_indices, Y_train, batch_size=64, epochs=15)"
      ],
      "execution_count": null,
      "outputs": [
        {
          "output_type": "stream",
          "text": [
            "Epoch 1/15\n",
            "14/14 [==============================] - 4s 34ms/step - loss: 1.0338 - accuracy: 0.3364\n",
            "Epoch 2/15\n",
            "14/14 [==============================] - 0s 33ms/step - loss: 0.6298 - accuracy: 0.3610\n",
            "Epoch 3/15\n",
            "14/14 [==============================] - 0s 34ms/step - loss: 0.6462 - accuracy: 0.3324\n",
            "Epoch 4/15\n",
            "14/14 [==============================] - 0s 34ms/step - loss: 0.6279 - accuracy: 0.3616\n",
            "Epoch 5/15\n",
            "14/14 [==============================] - 0s 34ms/step - loss: 0.6483 - accuracy: 0.3498\n",
            "Epoch 6/15\n",
            "14/14 [==============================] - 0s 34ms/step - loss: 0.6413 - accuracy: 0.3747\n",
            "Epoch 7/15\n",
            "14/14 [==============================] - 0s 34ms/step - loss: 0.6357 - accuracy: 0.3811\n",
            "Epoch 8/15\n",
            "14/14 [==============================] - 0s 34ms/step - loss: 0.6117 - accuracy: 0.3805\n",
            "Epoch 9/15\n",
            "14/14 [==============================] - 0s 34ms/step - loss: 0.6288 - accuracy: 0.3626\n",
            "Epoch 10/15\n",
            "14/14 [==============================] - 0s 34ms/step - loss: 0.6205 - accuracy: 0.3785\n",
            "Epoch 11/15\n",
            "14/14 [==============================] - 0s 34ms/step - loss: 0.6615 - accuracy: 0.3585\n",
            "Epoch 12/15\n",
            "14/14 [==============================] - 0s 34ms/step - loss: 0.6049 - accuracy: 0.3634\n",
            "Epoch 13/15\n",
            "14/14 [==============================] - 0s 34ms/step - loss: 0.6149 - accuracy: 0.3566\n",
            "Epoch 14/15\n",
            "14/14 [==============================] - 0s 34ms/step - loss: 0.6561 - accuracy: 0.3459\n",
            "Epoch 15/15\n",
            "14/14 [==============================] - 0s 34ms/step - loss: 0.6268 - accuracy: 0.3340\n"
          ],
          "name": "stdout"
        },
        {
          "output_type": "execute_result",
          "data": {
            "text/plain": [
              "<tensorflow.python.keras.callbacks.History at 0x7f0aeff6a150>"
            ]
          },
          "metadata": {
            "tags": []
          },
          "execution_count": 90
        }
      ]
    },
    {
      "cell_type": "code",
      "metadata": {
        "id": "Zy5rnQK0tPq-"
      },
      "source": [
        "X_test_indices = tokenizer.texts_to_sequences(X_test)\n",
        "\n",
        "X_test_indices = pad_sequences(X_test_indices, maxlen=maxLen, padding='post')"
      ],
      "execution_count": null,
      "outputs": []
    },
    {
      "cell_type": "code",
      "metadata": {
        "colab": {
          "base_uri": "https://localhost:8080/"
        },
        "id": "mjzVBj2YG2hz",
        "outputId": "1c725de6-9dc5-4ec1-b43c-bafeedeb53f4"
      },
      "source": [
        "model.evaluate(X_test_indices, Y_test)"
      ],
      "execution_count": null,
      "outputs": [
        {
          "output_type": "stream",
          "text": [
            "7/7 [==============================] - 1s 13ms/step - loss: 0.5947 - accuracy: 0.3575\n"
          ],
          "name": "stdout"
        },
        {
          "output_type": "execute_result",
          "data": {
            "text/plain": [
              "[0.5947369337081909, 0.35746607184410095]"
            ]
          },
          "metadata": {
            "tags": []
          },
          "execution_count": 92
        }
      ]
    },
    {
      "cell_type": "code",
      "metadata": {
        "id": "htJhrbqHIERO"
      },
      "source": [
        "adam = keras.optimizers.Adam(learning_rate = 0.0001)\n",
        "model_1d.compile(optimizer=adam, loss='binary_crossentropy', metrics=['accuracy'])"
      ],
      "execution_count": null,
      "outputs": []
    },
    {
      "cell_type": "code",
      "metadata": {
        "id": "1fgJHi6dHUqg",
        "colab": {
          "base_uri": "https://localhost:8080/"
        },
        "outputId": "e47507c3-f8a0-4039-b377-89f6154074c3"
      },
      "source": [
        "model_1d.fit(X_train_indices, Y_train, batch_size=64, epochs=15)"
      ],
      "execution_count": null,
      "outputs": [
        {
          "output_type": "stream",
          "text": [
            "Epoch 1/15\n",
            "14/14 [==============================] - 1s 8ms/step - loss: 0.6931 - accuracy: 0.3403\n",
            "Epoch 2/15\n",
            "14/14 [==============================] - 0s 7ms/step - loss: 0.6929 - accuracy: 0.3321\n",
            "Epoch 3/15\n",
            "14/14 [==============================] - 0s 7ms/step - loss: 0.6926 - accuracy: 0.3712\n",
            "Epoch 4/15\n",
            "14/14 [==============================] - 0s 7ms/step - loss: 0.6925 - accuracy: 0.3467\n",
            "Epoch 5/15\n",
            "14/14 [==============================] - 0s 7ms/step - loss: 0.6921 - accuracy: 0.3400\n",
            "Epoch 6/15\n",
            "14/14 [==============================] - 0s 7ms/step - loss: 0.6919 - accuracy: 0.3714\n",
            "Epoch 7/15\n",
            "14/14 [==============================] - 0s 7ms/step - loss: 0.6919 - accuracy: 0.3166\n",
            "Epoch 8/15\n",
            "14/14 [==============================] - 0s 7ms/step - loss: 0.6914 - accuracy: 0.3713\n",
            "Epoch 9/15\n",
            "14/14 [==============================] - 0s 7ms/step - loss: 0.6913 - accuracy: 0.3345\n",
            "Epoch 10/15\n",
            "14/14 [==============================] - 0s 7ms/step - loss: 0.6912 - accuracy: 0.3387\n",
            "Epoch 11/15\n",
            "14/14 [==============================] - 0s 7ms/step - loss: 0.6902 - accuracy: 0.3559\n",
            "Epoch 12/15\n",
            "14/14 [==============================] - 0s 7ms/step - loss: 0.6906 - accuracy: 0.3342\n",
            "Epoch 13/15\n",
            "14/14 [==============================] - 0s 7ms/step - loss: 0.6905 - accuracy: 0.3352\n",
            "Epoch 14/15\n",
            "14/14 [==============================] - 0s 7ms/step - loss: 0.6903 - accuracy: 0.3662\n",
            "Epoch 15/15\n",
            "14/14 [==============================] - 0s 7ms/step - loss: 0.6899 - accuracy: 0.3498\n"
          ],
          "name": "stdout"
        },
        {
          "output_type": "execute_result",
          "data": {
            "text/plain": [
              "<tensorflow.python.keras.callbacks.History at 0x7f0af06bbad0>"
            ]
          },
          "metadata": {
            "tags": []
          },
          "execution_count": 70
        }
      ]
    },
    {
      "cell_type": "code",
      "metadata": {
        "id": "8uJ1hVOfJDHy",
        "colab": {
          "base_uri": "https://localhost:8080/"
        },
        "outputId": "d83b031f-eec5-49f9-decd-72bda5861e53"
      },
      "source": [
        "model_1d.evaluate(X_test_indices, Y_test)"
      ],
      "execution_count": null,
      "outputs": [
        {
          "output_type": "stream",
          "text": [
            "7/7 [==============================] - 0s 3ms/step - loss: 0.6890 - accuracy: 0.3575\n"
          ],
          "name": "stdout"
        },
        {
          "output_type": "execute_result",
          "data": {
            "text/plain": [
              "[0.6890302896499634, 0.35746607184410095]"
            ]
          },
          "metadata": {
            "tags": []
          },
          "execution_count": 71
        }
      ]
    },
    {
      "cell_type": "code",
      "metadata": {
        "id": "Xv_WD7uVJIPy"
      },
      "source": [
        "preds_1d = model_1d.predict(X_test_indices)"
      ],
      "execution_count": null,
      "outputs": []
    },
    {
      "cell_type": "code",
      "metadata": {
        "id": "4etUiZytyvNO"
      },
      "source": [
        "preds = model.predict(X_test_indices)"
      ],
      "execution_count": null,
      "outputs": []
    },
    {
      "cell_type": "code",
      "metadata": {
        "colab": {
          "base_uri": "https://localhost:8080/"
        },
        "id": "0OfymBU8tuFF",
        "outputId": "21bd93c0-9b99-477e-ecbc-36f0ea8cb006"
      },
      "source": [
        "X_test.shape"
      ],
      "execution_count": null,
      "outputs": [
        {
          "output_type": "execute_result",
          "data": {
            "text/plain": [
              "(221,)"
            ]
          },
          "metadata": {
            "tags": []
          },
          "execution_count": 95
        }
      ]
    },
    {
      "cell_type": "code",
      "metadata": {
        "id": "yqU_yYYXJKnV",
        "colab": {
          "base_uri": "https://localhost:8080/",
          "height": 35
        },
        "outputId": "9a41d9a3-8633-479f-8fd5-9c589e7d6ebd"
      },
      "source": [
        "n = np.random.randint(0,221)\n",
        "\n",
        "X_test[n]"
      ],
      "execution_count": null,
      "outputs": [
        {
          "output_type": "execute_result",
          "data": {
            "application/vnd.google.colaboratory.intrinsic+json": {
              "type": "string"
            },
            "text/plain": [
              "\"['zacks', 'analyst', 'blog', 'highlight', 'generac', 'applied', 'material', 'google', 'water', 'corp', 'adobe']\""
            ]
          },
          "metadata": {
            "tags": []
          },
          "execution_count": 96
        }
      ]
    },
    {
      "cell_type": "code",
      "metadata": {
        "id": "2YWwHwvhJO_K",
        "colab": {
          "base_uri": "https://localhost:8080/"
        },
        "outputId": "6ff8a21d-60e0-4003-ea63-00cde55a03be"
      },
      "source": [
        "if preds[n] > 0.5:\n",
        "  print('predicted sentiment : bullish')\n",
        "elif preds[n]<0.5 and preds[n]>-0.5:\n",
        "  print('predicted sentiment : neutral')\n",
        "else: \n",
        "  print('precicted sentiment : bearish')\n",
        "\n",
        "if (Y_test[n] == 1):\n",
        "  print('correct sentiment : bullish')\n",
        "elif (Y_test[n] == 0):\n",
        "  print('correct sentiment : neutral')\n",
        "else:\n",
        "  print('correct sentiment : bearish')"
      ],
      "execution_count": null,
      "outputs": [
        {
          "output_type": "stream",
          "text": [
            "predicted sentiment : neutral\n",
            "correct sentiment : neutral\n"
          ],
          "name": "stdout"
        }
      ]
    },
    {
      "cell_type": "code",
      "metadata": {
        "id": "RS2ySr1gJbUD",
        "colab": {
          "base_uri": "https://localhost:8080/"
        },
        "outputId": "2ca59b9f-84ec-403f-d8d1-27ac9e97348b"
      },
      "source": [
        "preds[n]"
      ],
      "execution_count": null,
      "outputs": [
        {
          "output_type": "execute_result",
          "data": {
            "text/plain": [
              "array([0.30355722], dtype=float32)"
            ]
          },
          "metadata": {
            "tags": []
          },
          "execution_count": 99
        }
      ]
    },
    {
      "cell_type": "code",
      "metadata": {
        "id": "hmgl_p5HJcXn",
        "colab": {
          "base_uri": "https://localhost:8080/"
        },
        "outputId": "5b79fd63-b9af-4768-ddac-523126f45233"
      },
      "source": [
        "Y_test[n]"
      ],
      "execution_count": null,
      "outputs": [
        {
          "output_type": "execute_result",
          "data": {
            "text/plain": [
              "0"
            ]
          },
          "metadata": {
            "tags": []
          },
          "execution_count": 100
        }
      ]
    },
    {
      "cell_type": "code",
      "metadata": {
        "id": "EdGYQGeEJfar"
      },
      "source": [
        "headlines_idx = tokenizer.texts_to_sequences(headlines)"
      ],
      "execution_count": null,
      "outputs": []
    },
    {
      "cell_type": "code",
      "metadata": {
        "id": "6N7OBj7PJlzj"
      },
      "source": [
        "def add_score_predictions(data, reviews_list_idx):\n",
        "\n",
        "  data['sentiment score'] = 0\n",
        "\n",
        "  headlines_idx_pad = pad_sequences(headlines_idx, maxlen=maxLen, padding='post')\n",
        "\n",
        "  headlines_preds = model.predict(headlines_idx_pad)\n",
        "\n",
        "  data['sentiment score'] = headlines_preds\n",
        "\n",
        "  pred_sentiment = np.array(list(map(lambda x : 'bullish' if x > 0.5 else ('neutral' if x < 0.5 and x > -0.5  else 'bearish'), headlines_preds)))\n",
        "\n",
        "  data['predicted sentiment'] = 0\n",
        "\n",
        "  data['predicted sentiment'] = pred_sentiment\n",
        "\n",
        "  return data"
      ],
      "execution_count": null,
      "outputs": []
    },
    {
      "cell_type": "code",
      "metadata": {
        "colab": {
          "base_uri": "https://localhost:8080/",
          "height": 407
        },
        "id": "qUVoCIYyyULR",
        "outputId": "9329aba1-3137-41e9-f1bc-94f9f40949e2"
      },
      "source": [
        "data"
      ],
      "execution_count": null,
      "outputs": [
        {
          "output_type": "execute_result",
          "data": {
            "text/html": [
              "<div>\n",
              "<style scoped>\n",
              "    .dataframe tbody tr th:only-of-type {\n",
              "        vertical-align: middle;\n",
              "    }\n",
              "\n",
              "    .dataframe tbody tr th {\n",
              "        vertical-align: top;\n",
              "    }\n",
              "\n",
              "    .dataframe thead th {\n",
              "        text-align: right;\n",
              "    }\n",
              "</style>\n",
              "<table border=\"1\" class=\"dataframe\">\n",
              "  <thead>\n",
              "    <tr style=\"text-align: right;\">\n",
              "      <th></th>\n",
              "      <th>News_Title</th>\n",
              "      <th>Sentiment</th>\n",
              "      <th>sentiment score</th>\n",
              "      <th>predicted sentiment</th>\n",
              "    </tr>\n",
              "  </thead>\n",
              "  <tbody>\n",
              "    <tr>\n",
              "      <th>0</th>\n",
              "      <td>['applied', 'optoelectronics', 'aaoi', 'may', ...</td>\n",
              "      <td>bearish</td>\n",
              "      <td>0.297649</td>\n",
              "      <td>neutral</td>\n",
              "    </tr>\n",
              "    <tr>\n",
              "      <th>1</th>\n",
              "      <td>['applied', 'optoelectronics', 'announces', 'd...</td>\n",
              "      <td>neutral</td>\n",
              "      <td>0.297649</td>\n",
              "      <td>neutral</td>\n",
              "    </tr>\n",
              "    <tr>\n",
              "      <th>2</th>\n",
              "      <td>['insider', 'buying', 'applied', 'optoelectron...</td>\n",
              "      <td>bullish</td>\n",
              "      <td>0.297649</td>\n",
              "      <td>neutral</td>\n",
              "    </tr>\n",
              "    <tr>\n",
              "      <th>3</th>\n",
              "      <td>['applied', 'optoelectronics', 'stock', 'tanke...</td>\n",
              "      <td>bearish</td>\n",
              "      <td>0.297649</td>\n",
              "      <td>neutral</td>\n",
              "    </tr>\n",
              "    <tr>\n",
              "      <th>4</th>\n",
              "      <td>['applied', 'optoelectronics', 'inc', 'aaoi', ...</td>\n",
              "      <td>neutral</td>\n",
              "      <td>0.297649</td>\n",
              "      <td>neutral</td>\n",
              "    </tr>\n",
              "    <tr>\n",
              "      <th>...</th>\n",
              "      <td>...</td>\n",
              "      <td>...</td>\n",
              "      <td>...</td>\n",
              "      <td>...</td>\n",
              "    </tr>\n",
              "    <tr>\n",
              "      <th>1099</th>\n",
              "      <td>['aehr', 'test', 'system', 'participate', 'ann...</td>\n",
              "      <td>neutral</td>\n",
              "      <td>0.297649</td>\n",
              "      <td>neutral</td>\n",
              "    </tr>\n",
              "    <tr>\n",
              "      <th>1100</th>\n",
              "      <td>['aehr', 'secures', 'order', 'system', 'new', ...</td>\n",
              "      <td>bullish</td>\n",
              "      <td>0.297649</td>\n",
              "      <td>neutral</td>\n",
              "    </tr>\n",
              "    <tr>\n",
              "      <th>1101</th>\n",
              "      <td>['aehr', 'announces', 'shipment', 'new', 'syst...</td>\n",
              "      <td>neutral</td>\n",
              "      <td>0.297649</td>\n",
              "      <td>neutral</td>\n",
              "    </tr>\n",
              "    <tr>\n",
              "      <th>1102</th>\n",
              "      <td>['aehr', 'present', 'annual', 'ld', 'micro', '...</td>\n",
              "      <td>neutral</td>\n",
              "      <td>0.297649</td>\n",
              "      <td>neutral</td>\n",
              "    </tr>\n",
              "    <tr>\n",
              "      <th>1103</th>\n",
              "      <td>['aehr', 'receives', 'initial', 'order', 'new'...</td>\n",
              "      <td>bullish</td>\n",
              "      <td>0.297649</td>\n",
              "      <td>neutral</td>\n",
              "    </tr>\n",
              "  </tbody>\n",
              "</table>\n",
              "<p>1104 rows × 4 columns</p>\n",
              "</div>"
            ],
            "text/plain": [
              "                                             News_Title  ... predicted sentiment\n",
              "0     ['applied', 'optoelectronics', 'aaoi', 'may', ...  ...             neutral\n",
              "1     ['applied', 'optoelectronics', 'announces', 'd...  ...             neutral\n",
              "2     ['insider', 'buying', 'applied', 'optoelectron...  ...             neutral\n",
              "3     ['applied', 'optoelectronics', 'stock', 'tanke...  ...             neutral\n",
              "4     ['applied', 'optoelectronics', 'inc', 'aaoi', ...  ...             neutral\n",
              "...                                                 ...  ...                 ...\n",
              "1099  ['aehr', 'test', 'system', 'participate', 'ann...  ...             neutral\n",
              "1100  ['aehr', 'secures', 'order', 'system', 'new', ...  ...             neutral\n",
              "1101  ['aehr', 'announces', 'shipment', 'new', 'syst...  ...             neutral\n",
              "1102  ['aehr', 'present', 'annual', 'ld', 'micro', '...  ...             neutral\n",
              "1103  ['aehr', 'receives', 'initial', 'order', 'new'...  ...             neutral\n",
              "\n",
              "[1104 rows x 4 columns]"
            ]
          },
          "metadata": {
            "tags": []
          },
          "execution_count": 103
        }
      ]
    },
    {
      "cell_type": "code",
      "metadata": {
        "id": "GpxaYQVxJoPA",
        "colab": {
          "base_uri": "https://localhost:8080/"
        },
        "outputId": "0f7ece39-1c65-43c1-f024-0b873258f667"
      },
      "source": [
        "data = add_score_predictions(data, headlines_idx)\n",
        "data['predicted sentiment'].value_counts()"
      ],
      "execution_count": null,
      "outputs": [
        {
          "output_type": "execute_result",
          "data": {
            "text/plain": [
              "neutral    1104\n",
              "Name: predicted sentiment, dtype: int64"
            ]
          },
          "metadata": {
            "tags": []
          },
          "execution_count": 104
        }
      ]
    }
  ]
}