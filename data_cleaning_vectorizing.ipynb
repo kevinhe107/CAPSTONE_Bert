{
 "cells": [
  {
   "cell_type": "code",
   "execution_count": 13,
   "metadata": {},
   "outputs": [],
   "source": [
    "import pandas as pd\n",
    "import numpy as np\n",
    "import nltk\n",
    "import string\n",
    "from nltk.tokenize import word_tokenize\n",
    "from nltk import sent_tokenize\n",
    "from nltk.corpus import stopwords\n",
    "from nltk.stem import WordNetLemmatizer\n",
    "from nltk.corpus import wordnet\n",
    "from nltk.stem.porter import PorterStemmer\n",
    "from sklearn.feature_extraction.text import TfidfVectorizer"
   ]
  },
  {
   "cell_type": "code",
   "execution_count": 8,
   "metadata": {},
   "outputs": [
    {
     "data": {
      "text/html": [
       "<div>\n",
       "<style scoped>\n",
       "    .dataframe tbody tr th:only-of-type {\n",
       "        vertical-align: middle;\n",
       "    }\n",
       "\n",
       "    .dataframe tbody tr th {\n",
       "        vertical-align: top;\n",
       "    }\n",
       "\n",
       "    .dataframe thead th {\n",
       "        text-align: right;\n",
       "    }\n",
       "</style>\n",
       "<table border=\"1\" class=\"dataframe\">\n",
       "  <thead>\n",
       "    <tr style=\"text-align: right;\">\n",
       "      <th></th>\n",
       "      <th>News_Title</th>\n",
       "      <th>Time</th>\n",
       "      <th>Ticker</th>\n",
       "    </tr>\n",
       "  </thead>\n",
       "  <tbody>\n",
       "    <tr>\n",
       "      <th>0</th>\n",
       "      <td>Applied Optoelectronics (AAOI) May Report Nega...</td>\n",
       "      <td>Apr-29-21 05:03PM</td>\n",
       "      <td>AAOI</td>\n",
       "    </tr>\n",
       "    <tr>\n",
       "      <th>1</th>\n",
       "      <td>Applied Optoelectronics Announces Date of Firs...</td>\n",
       "      <td>Apr-15-21 04:10PM</td>\n",
       "      <td>AAOI</td>\n",
       "    </tr>\n",
       "    <tr>\n",
       "      <th>2</th>\n",
       "      <td>Have Insiders Been Buying Applied Optoelectron...</td>\n",
       "      <td>Mar-07-21 01:03AM</td>\n",
       "      <td>AAOI</td>\n",
       "    </tr>\n",
       "    <tr>\n",
       "      <th>3</th>\n",
       "      <td>Why Applied Optoelectronics Stock Tanked Today</td>\n",
       "      <td>Feb-26-21 12:43PM</td>\n",
       "      <td>AAOI</td>\n",
       "    </tr>\n",
       "    <tr>\n",
       "      <th>4</th>\n",
       "      <td>Applied Optoelectronics Inc (AAOI) Q4 2020 Ear...</td>\n",
       "      <td>Feb-25-21 08:01PM</td>\n",
       "      <td>AAOI</td>\n",
       "    </tr>\n",
       "  </tbody>\n",
       "</table>\n",
       "</div>"
      ],
      "text/plain": [
       "                                          News_Title               Time Ticker\n",
       "0  Applied Optoelectronics (AAOI) May Report Nega...  Apr-29-21 05:03PM   AAOI\n",
       "1  Applied Optoelectronics Announces Date of Firs...  Apr-15-21 04:10PM   AAOI\n",
       "2  Have Insiders Been Buying Applied Optoelectron...  Mar-07-21 01:03AM   AAOI\n",
       "3     Why Applied Optoelectronics Stock Tanked Today  Feb-26-21 12:43PM   AAOI\n",
       "4  Applied Optoelectronics Inc (AAOI) Q4 2020 Ear...  Feb-25-21 08:01PM   AAOI"
      ]
     },
     "execution_count": 8,
     "metadata": {},
     "output_type": "execute_result"
    }
   ],
   "source": [
    "df = pd.read_csv('out/Data_headlines.csv')\n",
    "df.head()"
   ]
  },
  {
   "cell_type": "code",
   "execution_count": 9,
   "metadata": {},
   "outputs": [],
   "source": [
    "def preprocess(review_column):\n",
    "    # STEP 1 : split into words\n",
    "    tokens = review_column.apply(lambda x: word_tokenize(x))\n",
    "    \n",
    "    # STEP 2: remove all tokens that are not alphabetic\n",
    "    words = tokens.apply(lambda x: [i for i in x if i.isalpha()])\n",
    "    \n",
    "    # STEP 3: convert text to lowercase\n",
    "    words = words.apply(lambda x: [i.lower() for i in x])\n",
    "    \n",
    "    #STEP 4: REMOVING STOPWORDS\n",
    "    stop_words = stopwords.words('english')\n",
    "    words = words.apply(lambda x: [i for i in x if not i in stop_words])\n",
    "    \n",
    "    #STEP 5: Lemmatizing\n",
    "    lemmatizer = WordNetLemmatizer()\n",
    "    words = words.apply(lambda x: [lemmatizer.lemmatize(i) for i in x])\n",
    "    return words"
   ]
  },
  {
   "cell_type": "code",
   "execution_count": 29,
   "metadata": {},
   "outputs": [],
   "source": [
    "News_title_clean = preprocess(df.News_Title)"
   ]
  },
  {
   "cell_type": "code",
   "execution_count": 32,
   "metadata": {},
   "outputs": [],
   "source": [
    "df = df.drop('News_Title', axis = 1)"
   ]
  },
  {
   "cell_type": "code",
   "execution_count": 34,
   "metadata": {},
   "outputs": [],
   "source": [
    "df_merged = pd.concat([df, News_title_clean], axis = 1)"
   ]
  },
  {
   "cell_type": "code",
   "execution_count": 15,
   "metadata": {},
   "outputs": [],
   "source": [
    "def listToString(s): \n",
    "    \n",
    "    # initialize an empty string\n",
    "    str1 = \" \" \n",
    "    \n",
    "    # return string  \n",
    "    return (str1.join(s))"
   ]
  },
  {
   "cell_type": "code",
   "execution_count": 39,
   "metadata": {},
   "outputs": [],
   "source": [
    "headlines = list(map(listToString, df_merged.News_Title))"
   ]
  },
  {
   "cell_type": "markdown",
   "metadata": {},
   "source": [
    "* vectorizer TFIDF vectorizer"
   ]
  },
  {
   "cell_type": "code",
   "execution_count": 41,
   "metadata": {},
   "outputs": [],
   "source": [
    "tfvectorizer = TfidfVectorizer(max_features=2500, min_df=5, \n",
    "                               max_df=0.9, stop_words=stopwords.words('english'))"
   ]
  },
  {
   "cell_type": "code",
   "execution_count": null,
   "metadata": {},
   "outputs": [],
   "source": []
  },
  {
   "cell_type": "code",
   "execution_count": null,
   "metadata": {},
   "outputs": [],
   "source": []
  },
  {
   "cell_type": "code",
   "execution_count": null,
   "metadata": {},
   "outputs": [],
   "source": []
  },
  {
   "cell_type": "code",
   "execution_count": null,
   "metadata": {},
   "outputs": [],
   "source": []
  },
  {
   "cell_type": "code",
   "execution_count": null,
   "metadata": {},
   "outputs": [],
   "source": []
  }
 ],
 "metadata": {
  "kernelspec": {
   "display_name": "Python 3",
   "language": "python",
   "name": "python3"
  },
  "language_info": {
   "codemirror_mode": {
    "name": "ipython",
    "version": 3
   },
   "file_extension": ".py",
   "mimetype": "text/x-python",
   "name": "python",
   "nbconvert_exporter": "python",
   "pygments_lexer": "ipython3",
   "version": "3.8.5"
  }
 },
 "nbformat": 4,
 "nbformat_minor": 4
}
