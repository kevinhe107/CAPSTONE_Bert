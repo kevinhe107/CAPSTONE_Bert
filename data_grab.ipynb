{
 "cells": [
  {
   "cell_type": "code",
   "execution_count": 1,
   "metadata": {},
   "outputs": [],
   "source": [
    "from bs4 import BeautifulSoup\n",
    "import pandas as pd\n",
    "import numpy as np\n",
    "from urllib.request import Request, urlopen"
   ]
  },
  {
   "cell_type": "code",
   "execution_count": null,
   "metadata": {},
   "outputs": [],
   "source": [
    "#evaluation of the model by reading the actual article of certain headlines and see if its actually reflective, check correlation of headline and actual sentiment of the full article"
   ]
  },
  {
   "cell_type": "code",
   "execution_count": 28,
   "metadata": {},
   "outputs": [],
   "source": [
    "page_number = 1\n",
    "ticker_list = []\n",
    "#scrapping for all ticker symbols\n",
    "for i in range(67):\n",
    "    finviz_url = 'https://finviz.com/screener.ashx?v=321&f=sec_technology&r=' + str(page_number)\n",
    "    page_number += 10\n",
    "    req = Request(url = finviz_url, headers = {'user-agent': 'my-app/0.0.1'})\n",
    "    response = urlopen(req)\n",
    "    html = BeautifulSoup(response)\n",
    "    \n",
    "    screener_content = html.find(id='screener-content')\n",
    "    snap_shot = screener_content.findAll(class_ = 'snapshot-table')\n",
    "    for i in range(len(snap_shot)):\n",
    "        ticker = snap_shot[i].find('tr').a.text\n",
    "        if ticker not in ticker_list:\n",
    "            ticker_list.append(ticker)\n",
    "        else:\n",
    "            pass"
   ]
  },
  {
   "cell_type": "code",
   "execution_count": 94,
   "metadata": {},
   "outputs": [
    {
     "name": "stdout",
     "output_type": "stream",
     "text": [
      "no headlines found for tickerALKT\n"
     ]
    }
   ],
   "source": [
    "df = pd.DataFrame(columns=['News_Title', 'Time', 'Ticker'])\n",
    "\n",
    "for i in range(len(ticker_list)):\n",
    "    finviz_url = 'https://finviz.com/quote.ashx?t=' + str(ticker_list[i])\n",
    "    req = Request(url = finviz_url, headers = {'user-agent': 'my-app/0.0.1'})\n",
    "    response = urlopen(req)\n",
    "    html = BeautifulSoup(response)\n",
    "    \n",
    "    #fnding the news headline\n",
    "    news_table = html.find(id='news-table')\n",
    "    if news_table:\n",
    "        #print(str(len(news_table)) + \"headlines found for ticker\" + ticker_list[i])\n",
    "        news = news_table.findAll('tr')\n",
    "        \n",
    "        for j, table_row in enumerate(news):\n",
    "            a_text = table_row.a.text\n",
    "            td_text = table_row.td.text\n",
    "            td_text = td_text.strip()\n",
    "            df = df.append({'News_Title': a_text, 'Time': td_text, 'Ticker': ticker_list[i]}, ignore_index=True)\n",
    "    else:\n",
    "        print(\"no headlines found for ticker\" + ticker_list[i])\n",
    "        \n",
    "compression_opts = dict(method='zip',\n",
    "                        archive_name='Data_headlines.csv')  \n",
    "df.to_csv('out.zip', index=False,\n",
    "          compression=compression_opts)    "
   ]
  },
  {
   "cell_type": "code",
   "execution_count": 99,
   "metadata": {},
   "outputs": [],
   "source": [
    "compression_opts = dict(method='zip',\n",
    "                        archive_name='Data_headlines.csv')  \n",
    "df.to_csv('out.zip', index=False,\n",
    "          compression=compression_opts)  "
   ]
  }
 ],
 "metadata": {
  "kernelspec": {
   "display_name": "Python 3",
   "language": "python",
   "name": "python3"
  },
  "language_info": {
   "codemirror_mode": {
    "name": "ipython",
    "version": 3
   },
   "file_extension": ".py",
   "mimetype": "text/x-python",
   "name": "python",
   "nbconvert_exporter": "python",
   "pygments_lexer": "ipython3",
   "version": "3.8.5"
  }
 },
 "nbformat": 4,
 "nbformat_minor": 4
}
