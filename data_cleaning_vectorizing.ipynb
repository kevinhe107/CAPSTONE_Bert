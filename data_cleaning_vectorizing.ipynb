{
 "cells": [
  {
   "cell_type": "code",
   "execution_count": 12,
   "metadata": {},
   "outputs": [],
   "source": [
    "import pandas as pd\n",
    "import numpy as np\n",
    "import nltk\n",
    "import string\n",
    "from nltk.tokenize import word_tokenize\n",
    "from nltk import sent_tokenize\n",
    "from nltk.corpus import stopwords\n",
    "from nltk.stem import WordNetLemmatizer\n",
    "from nltk.corpus import wordnet\n",
    "from nltk.stem.porter import PorterStemmer\n",
    "from sklearn.feature_extraction.text import TfidfVectorizer\n",
    "import seaborn as sns\n",
    "import matplotlib.pyplot as plt\n"
   ]
  },
  {
   "cell_type": "code",
   "execution_count": 2,
   "metadata": {},
   "outputs": [],
   "source": [
    "df = pd.read_excel('out/data_headlines_1300.xlsx')\n",
    "df['Sentiment'] = df['Sentiment'].str.rstrip()"
   ]
  },
  {
   "cell_type": "code",
   "execution_count": 3,
   "metadata": {},
   "outputs": [],
   "source": [
    "numb_rows = 1300"
   ]
  },
  {
   "cell_type": "code",
   "execution_count": 5,
   "metadata": {},
   "outputs": [
    {
     "data": {
      "text/plain": [
       "bullish    561\n",
       "neutral    537\n",
       "bearish    201\n",
       "Name: Sentiment, dtype: int64"
      ]
     },
     "execution_count": 5,
     "metadata": {},
     "output_type": "execute_result"
    }
   ],
   "source": [
    "df.Sentiment.value_counts()"
   ]
  },
  {
   "cell_type": "code",
   "execution_count": 8,
   "metadata": {},
   "outputs": [
    {
     "data": {
      "text/html": [
       "<div>\n",
       "<style scoped>\n",
       "    .dataframe tbody tr th:only-of-type {\n",
       "        vertical-align: middle;\n",
       "    }\n",
       "\n",
       "    .dataframe tbody tr th {\n",
       "        vertical-align: top;\n",
       "    }\n",
       "\n",
       "    .dataframe thead th {\n",
       "        text-align: right;\n",
       "    }\n",
       "</style>\n",
       "<table border=\"1\" class=\"dataframe\">\n",
       "  <thead>\n",
       "    <tr style=\"text-align: right;\">\n",
       "      <th></th>\n",
       "      <th>News_Title</th>\n",
       "      <th>Time</th>\n",
       "      <th>Ticker</th>\n",
       "      <th>Sentiment</th>\n",
       "      <th>Labellers</th>\n",
       "      <th>Unnamed: 5</th>\n",
       "      <th>sentiment map</th>\n",
       "    </tr>\n",
       "  </thead>\n",
       "  <tbody>\n",
       "    <tr>\n",
       "      <th>0</th>\n",
       "      <td>Applied Optoelectronics (AAOI) May Report Nega...</td>\n",
       "      <td>Apr-29-21 05:03PM</td>\n",
       "      <td>AAOI</td>\n",
       "      <td>bearish</td>\n",
       "      <td>NaN</td>\n",
       "      <td>NaN</td>\n",
       "      <td>bullish</td>\n",
       "    </tr>\n",
       "    <tr>\n",
       "      <th>1</th>\n",
       "      <td>Applied Optoelectronics Announces Date of Firs...</td>\n",
       "      <td>Apr-15-21 04:10PM</td>\n",
       "      <td>AAOI</td>\n",
       "      <td>neutral</td>\n",
       "      <td>NaN</td>\n",
       "      <td>NaN</td>\n",
       "      <td>bearish</td>\n",
       "    </tr>\n",
       "    <tr>\n",
       "      <th>2</th>\n",
       "      <td>Have Insiders Been Buying Applied Optoelectron...</td>\n",
       "      <td>Mar-07-21 01:03AM</td>\n",
       "      <td>AAOI</td>\n",
       "      <td>bullish</td>\n",
       "      <td>NaN</td>\n",
       "      <td>NaN</td>\n",
       "      <td>neutral</td>\n",
       "    </tr>\n",
       "    <tr>\n",
       "      <th>3</th>\n",
       "      <td>Why Applied Optoelectronics Stock Tanked Today</td>\n",
       "      <td>Feb-26-21 12:43PM</td>\n",
       "      <td>AAOI</td>\n",
       "      <td>bearish</td>\n",
       "      <td>NaN</td>\n",
       "      <td>NaN</td>\n",
       "      <td>NaN</td>\n",
       "    </tr>\n",
       "    <tr>\n",
       "      <th>4</th>\n",
       "      <td>Applied Optoelectronics Inc (AAOI) Q4 2020 Ear...</td>\n",
       "      <td>Feb-25-21 08:01PM</td>\n",
       "      <td>AAOI</td>\n",
       "      <td>neutral</td>\n",
       "      <td>NaN</td>\n",
       "      <td>NaN</td>\n",
       "      <td>NaN</td>\n",
       "    </tr>\n",
       "    <tr>\n",
       "      <th>...</th>\n",
       "      <td>...</td>\n",
       "      <td>...</td>\n",
       "      <td>...</td>\n",
       "      <td>...</td>\n",
       "      <td>...</td>\n",
       "      <td>...</td>\n",
       "      <td>...</td>\n",
       "    </tr>\n",
       "    <tr>\n",
       "      <th>58142</th>\n",
       "      <td>2 Top Tech Stocks Under $20 Per Share</td>\n",
       "      <td>Jul-28-20 06:49AM</td>\n",
       "      <td>ZUO</td>\n",
       "      <td>NaN</td>\n",
       "      <td>NaN</td>\n",
       "      <td>NaN</td>\n",
       "      <td>NaN</td>\n",
       "    </tr>\n",
       "    <tr>\n",
       "      <th>58143</th>\n",
       "      <td>Zuora Helps The Seattle Times Meet Its Digital...</td>\n",
       "      <td>Jul-23-20 08:00AM</td>\n",
       "      <td>ZUO</td>\n",
       "      <td>NaN</td>\n",
       "      <td>NaN</td>\n",
       "      <td>NaN</td>\n",
       "      <td>NaN</td>\n",
       "    </tr>\n",
       "    <tr>\n",
       "      <th>58144</th>\n",
       "      <td>Zuora Welcomes Two New Members to its Board of...</td>\n",
       "      <td>Jul-22-20 04:46PM</td>\n",
       "      <td>ZUO</td>\n",
       "      <td>NaN</td>\n",
       "      <td>NaN</td>\n",
       "      <td>NaN</td>\n",
       "      <td>NaN</td>\n",
       "    </tr>\n",
       "    <tr>\n",
       "      <th>58145</th>\n",
       "      <td>Did Hedge Funds Make The Right Call On Zuora, ...</td>\n",
       "      <td>Jul-17-20 02:06PM</td>\n",
       "      <td>ZUO</td>\n",
       "      <td>NaN</td>\n",
       "      <td>NaN</td>\n",
       "      <td>NaN</td>\n",
       "      <td>NaN</td>\n",
       "    </tr>\n",
       "    <tr>\n",
       "      <th>58146</th>\n",
       "      <td>Zuora Sees Hammer Chart Pattern: Time to Buy?</td>\n",
       "      <td>Jul-15-20 07:17AM</td>\n",
       "      <td>ZUO</td>\n",
       "      <td>NaN</td>\n",
       "      <td>NaN</td>\n",
       "      <td>NaN</td>\n",
       "      <td>NaN</td>\n",
       "    </tr>\n",
       "  </tbody>\n",
       "</table>\n",
       "<p>58147 rows × 7 columns</p>\n",
       "</div>"
      ],
      "text/plain": [
       "                                              News_Title               Time  \\\n",
       "0      Applied Optoelectronics (AAOI) May Report Nega...  Apr-29-21 05:03PM   \n",
       "1      Applied Optoelectronics Announces Date of Firs...  Apr-15-21 04:10PM   \n",
       "2      Have Insiders Been Buying Applied Optoelectron...  Mar-07-21 01:03AM   \n",
       "3         Why Applied Optoelectronics Stock Tanked Today  Feb-26-21 12:43PM   \n",
       "4      Applied Optoelectronics Inc (AAOI) Q4 2020 Ear...  Feb-25-21 08:01PM   \n",
       "...                                                  ...                ...   \n",
       "58142              2 Top Tech Stocks Under $20 Per Share  Jul-28-20 06:49AM   \n",
       "58143  Zuora Helps The Seattle Times Meet Its Digital...  Jul-23-20 08:00AM   \n",
       "58144  Zuora Welcomes Two New Members to its Board of...  Jul-22-20 04:46PM   \n",
       "58145  Did Hedge Funds Make The Right Call On Zuora, ...  Jul-17-20 02:06PM   \n",
       "58146      Zuora Sees Hammer Chart Pattern: Time to Buy?  Jul-15-20 07:17AM   \n",
       "\n",
       "      Ticker Sentiment Labellers Unnamed: 5 sentiment map  \n",
       "0       AAOI   bearish       NaN        NaN       bullish  \n",
       "1       AAOI   neutral       NaN        NaN       bearish  \n",
       "2       AAOI   bullish       NaN        NaN       neutral  \n",
       "3       AAOI   bearish       NaN        NaN           NaN  \n",
       "4       AAOI   neutral       NaN        NaN           NaN  \n",
       "...      ...       ...       ...        ...           ...  \n",
       "58142    ZUO       NaN       NaN        NaN           NaN  \n",
       "58143    ZUO       NaN       NaN        NaN           NaN  \n",
       "58144    ZUO       NaN       NaN        NaN           NaN  \n",
       "58145    ZUO       NaN       NaN        NaN           NaN  \n",
       "58146    ZUO       NaN       NaN        NaN           NaN  \n",
       "\n",
       "[58147 rows x 7 columns]"
      ]
     },
     "execution_count": 8,
     "metadata": {},
     "output_type": "execute_result"
    }
   ],
   "source": [
    "df"
   ]
  },
  {
   "cell_type": "code",
   "execution_count": 10,
   "metadata": {},
   "outputs": [],
   "source": [
    "class_names = ['bearish', 'neutral', 'bullish']"
   ]
  },
  {
   "cell_type": "code",
   "execution_count": 13,
   "metadata": {},
   "outputs": [
    {
     "name": "stderr",
     "output_type": "stream",
     "text": [
      "C:\\ProgramData\\Anaconda3\\lib\\site-packages\\seaborn\\_decorators.py:36: FutureWarning: Pass the following variable as a keyword arg: x. From version 0.12, the only valid positional argument will be `data`, and passing other arguments without an explicit keyword will result in an error or misinterpretation.\n",
      "  warnings.warn(\n"
     ]
    },
    {
     "data": {
      "image/png": "[encoded data removed]",
      "text/plain": [
       "<Figure size 432x288 with 1 Axes>"
      ]
     },
     "metadata": {
      "needs_background": "light"
     },
     "output_type": "display_data"
    }
   ],
   "source": [
    "ax = sns.countplot(df.Sentiment)\n",
    "plt.xlabel('Sentiment')\n",
    "ax.set_xticklabels(class_names);"
   ]
  },
  {
   "cell_type": "code",
   "execution_count": 9,
   "metadata": {},
   "outputs": [],
   "source": [
    "df = df.drop(['Time', 'Labellers', 'Unnamed: 5', 'sentiment map'], axis = 1).iloc[:numb_rows]"
   ]
  },
  {
   "cell_type": "code",
   "execution_count": 12,
   "metadata": {},
   "outputs": [
    {
     "data": {
      "text/plain": [
       "bullish    561\n",
       "neutral    537\n",
       "bearish    201\n",
       "Name: Sentiment, dtype: int64"
      ]
     },
     "execution_count": 12,
     "metadata": {},
     "output_type": "execute_result"
    }
   ],
   "source": [
    "df.Sentiment.value_counts()"
   ]
  },
  {
   "cell_type": "code",
   "execution_count": 13,
   "metadata": {},
   "outputs": [],
   "source": [
    "df.to_csv('cleaned_headlines_untokinized_1300.csv', index=False)"
   ]
  },
  {
   "cell_type": "markdown",
   "metadata": {},
   "source": [
    "* cleaning/ preprocessing"
   ]
  },
  {
   "cell_type": "code",
   "execution_count": 9,
   "metadata": {},
   "outputs": [],
   "source": [
    "def preprocess(review_column):\n",
    "    # STEP 1 : split into words\n",
    "    tokens = review_column.apply(lambda x: word_tokenize(x))\n",
    "    \n",
    "    # STEP 2: remove all tokens that are not alphabetic\n",
    "    words = tokens.apply(lambda x: [i for i in x if i.isalpha()])\n",
    "    \n",
    "    # STEP 3: convert text to lowercase\n",
    "    words = words.apply(lambda x: [i.lower() for i in x])\n",
    "    \n",
    "    #STEP 4: REMOVING STOPWORDS\n",
    "    stop_words = stopwords.words('english')\n",
    "    words = words.apply(lambda x: [i for i in x if not i in stop_words])\n",
    "    \n",
    "    #STEP 5: Lemmatizing\n",
    "    lemmatizer = WordNetLemmatizer()\n",
    "    words = words.apply(lambda x: [lemmatizer.lemmatize(i) for i in x])\n",
    "    return words"
   ]
  },
  {
   "cell_type": "code",
   "execution_count": 10,
   "metadata": {},
   "outputs": [],
   "source": [
    "News_title_clean = preprocess(df.News_Title)"
   ]
  },
  {
   "cell_type": "code",
   "execution_count": 11,
   "metadata": {},
   "outputs": [],
   "source": [
    "df = df.drop('News_Title', axis = 1)"
   ]
  },
  {
   "cell_type": "code",
   "execution_count": 12,
   "metadata": {},
   "outputs": [],
   "source": [
    "df_merged = pd.concat([df, News_title_clean], axis = 1)"
   ]
  },
  {
   "cell_type": "code",
   "execution_count": 13,
   "metadata": {},
   "outputs": [],
   "source": [
    "def listToString(s): \n",
    "    \n",
    "    # initialize an empty string\n",
    "    str1 = \" \" \n",
    "    \n",
    "    # return string  \n",
    "    return (str1.join(s))"
   ]
  },
  {
   "cell_type": "code",
   "execution_count": 14,
   "metadata": {},
   "outputs": [],
   "source": [
    "headlines = list(map(listToString, df_merged.News_Title))"
   ]
  },
  {
   "cell_type": "code",
   "execution_count": 15,
   "metadata": {},
   "outputs": [],
   "source": [
    "df_true = df_merged[['News_Title', 'Sentiment']]"
   ]
  },
  {
   "cell_type": "markdown",
   "metadata": {},
   "source": [
    "* export clean data set"
   ]
  },
  {
   "cell_type": "code",
   "execution_count": 16,
   "metadata": {},
   "outputs": [],
   "source": [
    "compression_opts = dict(method='zip',\n",
    "                        archive_name='cleaned_headlines_1105.csv')\n",
    "df_true.to_csv('cleaned_headlines.zip', index=False, compression=compression_opts)"
   ]
  }
 ],
 "metadata": {
  "kernelspec": {
   "display_name": "Python 3",
   "language": "python",
   "name": "python3"
  },
  "language_info": {
   "codemirror_mode": {
    "name": "ipython",
    "version": 3
   },
   "file_extension": ".py",
   "mimetype": "text/x-python",
   "name": "python",
   "nbconvert_exporter": "python",
   "pygments_lexer": "ipython3",
   "version": "3.8.5"
  }
 },
 "nbformat": 4,
 "nbformat_minor": 4
}
