{
  "nbformat": 4,
  "nbformat_minor": 0,
  "metadata": {
    "colab": {
      "name": "ALPACA_BOT.ipynb",
      "provenance": [],
      "collapsed_sections": [],
      "authorship_tag": "ABX9TyMGSc8a6dxOC0IL+L4wwYVg",
      "include_colab_link": true
    },
    "kernelspec": {
      "name": "python3",
      "display_name": "Python 3"
    },
    "language_info": {
      "name": "python"
    }
  },
  "cells": [
    {
      "cell_type": "markdown",
      "metadata": {
        "id": "view-in-github",
        "colab_type": "text"
      },
      "source": [
        "<a href=\"https://colab.research.google.com/github/kevinhe107/CAPSTONE_Bert/blob/main/ALPACA_BOT.ipynb\" target=\"_parent\"><img src=\"https://colab.research.google.com/assets/colab-badge.svg\" alt=\"Open In Colab\"/></a>"
      ]
    },
    {
      "cell_type": "code",
      "metadata": {
        "colab": {
          "base_uri": "https://localhost:8080/"
        },
        "id": "g08kdbmdwBcb",
        "outputId": "26f9309d-2bf1-4e0f-916a-87b9f9508747"
      },
      "source": [
        "from google.colab import drive\n",
        "drive.mount('/content/drive', force_remount=True)"
      ],
      "execution_count": null,
      "outputs": [
        {
          "output_type": "stream",
          "text": [
            "Mounted at /content/drive\n"
          ],
          "name": "stdout"
        }
      ]
    },
    {
      "cell_type": "code",
      "metadata": {
        "colab": {
          "base_uri": "https://localhost:8080/"
        },
        "collapsed": true,
        "id": "AqhkbWPP2RuL",
        "outputId": "80f99b46-c4ca-40c7-b598-9d9c0316e615"
      },
      "source": [
        "!pip install alpaca_trade_api"
      ],
      "execution_count": null,
      "outputs": [
        {
          "output_type": "stream",
          "text": [
            "Collecting alpaca_trade_api\n",
            "  Downloading https://files.pythonhosted.org/packages/78/e2/0f54ba7ee0ccfd01f24cf9428f9a37ffe22d014143bf7731fa1f7fc562d9/alpaca_trade_api-1.2.1-py3-none-any.whl\n",
            "Requirement already satisfied: numpy in /usr/local/lib/python3.7/dist-packages (from alpaca_trade_api) (1.19.5)\n",
            "Requirement already satisfied: urllib3<2,>1.24 in /usr/local/lib/python3.7/dist-packages (from alpaca_trade_api) (1.24.3)\n",
            "Requirement already satisfied: requests<3,>2 in /usr/local/lib/python3.7/dist-packages (from alpaca_trade_api) (2.23.0)\n",
            "Requirement already satisfied: msgpack==1.0.2 in /usr/local/lib/python3.7/dist-packages (from alpaca_trade_api) (1.0.2)\n",
            "Requirement already satisfied: pandas in /usr/local/lib/python3.7/dist-packages (from alpaca_trade_api) (1.1.5)\n",
            "Collecting websocket-client<1,>=0.56.0\n",
            "\u001b[?25l  Downloading https://files.pythonhosted.org/packages/f7/0c/d52a2a63512a613817846d430d16a8fbe5ea56dd889e89c68facf6b91cb6/websocket_client-0.59.0-py2.py3-none-any.whl (67kB)\n",
            "\u001b[K     |████████████████████████████████| 71kB 3.4MB/s \n",
            "\u001b[?25hCollecting websockets<9,>=8.0\n",
            "\u001b[?25l  Downloading https://files.pythonhosted.org/packages/5a/0b/3ebc752392a368af14dd24ee041683416ac6d2463eead94b311b11e41c82/websockets-8.1-cp37-cp37m-manylinux2010_x86_64.whl (79kB)\n",
            "\u001b[K     |████████████████████████████████| 81kB 3.9MB/s \n",
            "\u001b[?25hRequirement already satisfied: chardet<4,>=3.0.2 in /usr/local/lib/python3.7/dist-packages (from requests<3,>2->alpaca_trade_api) (3.0.4)\n",
            "Requirement already satisfied: idna<3,>=2.5 in /usr/local/lib/python3.7/dist-packages (from requests<3,>2->alpaca_trade_api) (2.10)\n",
            "Requirement already satisfied: certifi>=2017.4.17 in /usr/local/lib/python3.7/dist-packages (from requests<3,>2->alpaca_trade_api) (2020.12.5)\n",
            "Requirement already satisfied: python-dateutil>=2.7.3 in /usr/local/lib/python3.7/dist-packages (from pandas->alpaca_trade_api) (2.8.1)\n",
            "Requirement already satisfied: pytz>=2017.2 in /usr/local/lib/python3.7/dist-packages (from pandas->alpaca_trade_api) (2018.9)\n",
            "Requirement already satisfied: six in /usr/local/lib/python3.7/dist-packages (from websocket-client<1,>=0.56.0->alpaca_trade_api) (1.15.0)\n",
            "Installing collected packages: websocket-client, websockets, alpaca-trade-api\n",
            "Successfully installed alpaca-trade-api-1.2.1 websocket-client-0.59.0 websockets-8.1\n"
          ],
          "name": "stdout"
        }
      ]
    },
    {
      "cell_type": "code",
      "metadata": {
        "id": "RtLHR1kI2Z4p"
      },
      "source": [
        "import numpy as np\n",
        "import pandas as pd\n",
        "import alpaca_trade_api as alpaca"
      ],
      "execution_count": null,
      "outputs": []
    },
    {
      "cell_type": "markdown",
      "metadata": {
        "id": "E6KVcttzwVGl"
      },
      "source": [
        "IMPORTING PREDICTED SENTIMENT\n",
        "\n"
      ]
    },
    {
      "cell_type": "code",
      "metadata": {
        "colab": {
          "base_uri": "https://localhost:8080/",
          "height": 35
        },
        "id": "38bQPJlh7obS",
        "outputId": "ad994260-1f28-4b57-a68b-e3dfd2b70550"
      },
      "source": [
        "predictions = pd.read_csv('/content/drive/MyDrive/CAPSTONE/data/df_predictedsentiment.csv')\n",
        "predictions['predicted_sentiment'][0]"
      ],
      "execution_count": null,
      "outputs": [
        {
          "output_type": "execute_result",
          "data": {
            "application/vnd.google.colaboratory.intrinsic+json": {
              "type": "string"
            },
            "text/plain": [
              "\"{'bearish'}\""
            ]
          },
          "metadata": {
            "tags": []
          },
          "execution_count": 117
        }
      ]
    },
    {
      "cell_type": "code",
      "metadata": {
        "id": "lFw-zRD9wUL9",
        "colab": {
          "base_uri": "https://localhost:8080/"
        },
        "outputId": "48ace400-9c5f-47b3-d0e7-af96ebaf05ae"
      },
      "source": [
        "predictions['predicted_sentiment'] = predictions['predicted_sentiment'].apply(lambda x: x.replace(\"{'\", \"\").replace(\"'}\",\"\"))\n",
        "predictions['predicted_sentiment']"
      ],
      "execution_count": null,
      "outputs": [
        {
          "output_type": "execute_result",
          "data": {
            "text/plain": [
              "0        bearish\n",
              "1        bearish\n",
              "2        bullish\n",
              "3        bearish\n",
              "4        bearish\n",
              "          ...   \n",
              "56742    bullish\n",
              "56743    bearish\n",
              "56744    bullish\n",
              "56745    bearish\n",
              "56746    bearish\n",
              "Name: predicted_sentiment, Length: 56747, dtype: object"
            ]
          },
          "metadata": {
            "tags": []
          },
          "execution_count": 121
        }
      ]
    },
    {
      "cell_type": "code",
      "metadata": {
        "id": "93j34myW8pQE"
      },
      "source": [
        "mode_predictions = predictions['predicted_sentiment'].mode().iloc[0] #getting the mode of all the sentiments"
      ],
      "execution_count": null,
      "outputs": []
    },
    {
      "cell_type": "markdown",
      "metadata": {
        "id": "Q6JyPyTwwehW"
      },
      "source": [
        "ALPACA TRADING BOT\n"
      ]
    },
    {
      "cell_type": "code",
      "metadata": {
        "id": "Fo_myyT22uv3"
      },
      "source": [
        "url = \"https://paper-api.alpaca.markets\"\n",
        "KEY_ID = \"PKF08EM81D0A68CKHQ57\"\n",
        "secret_key = \"jYAp9g0RVNai84UrEYut2Po2xsXzlho3qhNiIEkV\"\n",
        "ticker = 'XLK'"
      ],
      "execution_count": null,
      "outputs": []
    },
    {
      "cell_type": "code",
      "metadata": {
        "id": "OqTYPefXwfCp"
      },
      "source": [
        "api = alpaca.REST(KEY_ID, secret_key, url)\n",
        "account = api.get_account()"
      ],
      "execution_count": null,
      "outputs": []
    },
    {
      "cell_type": "code",
      "metadata": {
        "colab": {
          "base_uri": "https://localhost:8080/"
        },
        "id": "1CSuTTTbFRBR",
        "outputId": "90ac4921-64eb-45f9-ac2b-181bbbe059e5"
      },
      "source": [
        "if mode_predictions == 'neutral':\n",
        "  print(\"Neutral, no trades\")\n",
        "\n",
        "elif mode_predictions == 'bearish':\n",
        "  api.submit_order(\n",
        "    symbol = ticker,\n",
        "    qty = 1,\n",
        "    side='sell',\n",
        "    type='market',\n",
        "    time_in_force = 'gtc'\n",
        "  )\n",
        "  print('SELL, order sent to ALPACA')\n",
        "\n",
        "elif mode_predictions == 'bullish':\n",
        "  api.submit_order(\n",
        "    symbol = ticker,\n",
        "    qty = 1,\n",
        "    side = 'buy',\n",
        "    type = 'market',\n",
        "    time_in_force = 'gtc'\n",
        "  )\n",
        "  print('BUY, order sent to ALPACA')"
      ],
      "execution_count": null,
      "outputs": [
        {
          "output_type": "stream",
          "text": [
            "SELL\n"
          ],
          "name": "stdout"
        }
      ]
    }
  ]
}